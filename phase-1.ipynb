{
 "cells": [
  {
   "cell_type": "markdown",
   "metadata": {},
   "source": [
    "## Numpy array\n",
    "Learn about Numpy Library"
   ]
  },
  {
   "cell_type": "code",
   "execution_count": 1,
   "metadata": {},
   "outputs": [],
   "source": [
    "import numpy as np"
   ]
  },
  {
   "cell_type": "markdown",
   "metadata": {},
   "source": [
    "### Creating array from List"
   ]
  },
  {
   "cell_type": "code",
   "execution_count": 2,
   "metadata": {},
   "outputs": [
    {
     "name": "stdout",
     "output_type": "stream",
     "text": [
      "1D array:  [1 2 3 4 5]\n",
      "2D array:  [[1 2 3]\n",
      " [1 5 9]]\n"
     ]
    }
   ],
   "source": [
    "arr_1d = np.array([1,2,3,4,5])\n",
    "print(\"1D array: \", arr_1d)\n",
    "\n",
    "arr_2d = np.array([[1,2,3],[1,5,9]])\n",
    "print(\"2D array: \", arr_2d)"
   ]
  },
  {
   "cell_type": "markdown",
   "metadata": {},
   "source": [
    "### List vs Numpy array"
   ]
  },
  {
   "cell_type": "code",
   "execution_count": 6,
   "metadata": {},
   "outputs": [
    {
     "name": "stdout",
     "output_type": "stream",
     "text": [
      "Python list multiplication [1, 2, 3, 1, 2, 3, 1, 2, 3, 1, 2, 3, 1, 2, 3, 1, 2, 3, 1, 2, 3, 1, 2, 3, 1, 2, 3, 1, 2, 3]\n",
      "Python array multiplication [10 20 30]\n",
      "\n",
      " List operation time:  0.13643813133239746\n",
      "\n",
      " Numpy operation time:  0.0074193477630615234\n"
     ]
    }
   ],
   "source": [
    "py_list = [1,2,3]\n",
    "print(\"Python list multiplication\", py_list * 10)\n",
    "\n",
    "np_array = np.array([1,2,3]) #Element wise multiplication\n",
    "print(\"Python array multiplication\", np_array * 10)\n",
    "\n",
    "import time\n",
    "start = time.time()\n",
    "py_list = [i*2 for i in range(1000000)]\n",
    "print(\"\\n List operation time: \", time.time() - start)\n",
    "\n",
    "start = time.time()\n",
    "np_array = np.arange(1000000) *2\n",
    "print(\"\\n Numpy operation time: \", time.time() - start)\n"
   ]
  },
  {
   "cell_type": "markdown",
   "metadata": {},
   "source": []
  },
  {
   "cell_type": "markdown",
   "metadata": {},
   "source": [
    "### Creating array from scratch"
   ]
  },
  {
   "cell_type": "code",
   "execution_count": 14,
   "metadata": {},
   "outputs": [
    {
     "name": "stdout",
     "output_type": "stream",
     "text": [
      "Zero's Array: \n",
      " [[0. 0. 0. 0.]\n",
      " [0. 0. 0. 0.]\n",
      " [0. 0. 0. 0.]]\n",
      "One's Array: \n",
      " [[1. 1. 1.]\n",
      " [1. 1. 1.]]\n",
      "Full Array: \n",
      " [[5 5 5 5]\n",
      " [5 5 5 5]]\n",
      "Random Array: \n",
      " [[0.88874149 0.33674521 0.67590889 0.00181895 0.16472123 0.98114013\n",
      "  0.67834086 0.42429084 0.17126909]\n",
      " [0.11705113 0.49745806 0.81825944 0.21322972 0.40819653 0.13535006\n",
      "  0.16694186 0.43662728 0.60158565]\n",
      " [0.92263039 0.31436482 0.77955833 0.68459757 0.31109714 0.13402708\n",
      "  0.43939215 0.92124169 0.97448232]\n",
      " [0.56731685 0.05177478 0.02075065 0.5334611  0.06012348 0.37408272\n",
      "  0.46965689 0.2294282  0.51433824]\n",
      " [0.75178672 0.68550475 0.48192904 0.935056   0.7420007  0.35259314\n",
      "  0.53257052 0.83340811 0.64014085]]\n",
      "Sequence Array: \n",
      " [1 3 5 7 9]\n"
     ]
    }
   ],
   "source": [
    "zeroes = np.zeros((3,4))\n",
    "print(\"Zero's Array: \\n\", zeroes)\n",
    "\n",
    "ones = np.ones((2,3))\n",
    "print(\"One's Array: \\n\", ones)\n",
    "\n",
    "full = np.full((2,4),5)\n",
    "print(\"Full Array: \\n\", full)\n",
    "\n",
    "random = np.random.random((5,9))\n",
    "print(\"Random Array: \\n\", random)\n",
    "\n",
    "sequence = np.arange(1,11,2)\n",
    "print(\"Sequence Array: \\n\", sequence)"
   ]
  },
  {
   "cell_type": "markdown",
   "metadata": {},
   "source": [
    "### Vector, Matrix & Tensor"
   ]
  },
  {
   "cell_type": "code",
   "execution_count": null,
   "metadata": {},
   "outputs": [
    {
     "name": "stdout",
     "output_type": "stream",
     "text": [
      "Vector: \n",
      " [1 2 3 4 5]\n",
      "Matrix: \n",
      " [[1 2 3]\n",
      " [4 5 6]]\n",
      "Tensor: \n",
      " [[[1 2]\n",
      "  [3 4]]\n",
      "\n",
      " [[5 6]\n",
      "  [7 8]]]\n"
     ]
    }
   ],
   "source": [
    "vector = np.array([1,2,3,4,5])\n",
    "print(\"Vector: \\n\",vector)\n",
    "\n",
    "matrix = np.array([[1,2,3],\n",
    "                   [4,5,6]])\n",
    "print(\"Matrix: \\n\",matrix)\n",
    "\n",
    "tensor = np.array([[[1,2],[3,4]],\n",
    "                   [[5,6],[7,8]]])\n",
    "print(\"Tensor: \\n\",tensor)\n"
   ]
  },
  {
   "cell_type": "markdown",
   "metadata": {},
   "source": [
    "### Array Properties"
   ]
  },
  {
   "cell_type": "code",
   "execution_count": 22,
   "metadata": {},
   "outputs": [
    {
     "name": "stdout",
     "output_type": "stream",
     "text": [
      "Shape : (2, 3)\n",
      "Dimension : 2\n",
      "Size : 6\n",
      "DType : int64\n"
     ]
    }
   ],
   "source": [
    "arr = np.array([[1,2,3],\n",
    "                [4,5,6]])\n",
    "print(\"Shape :\", arr.shape)\n",
    "print(\"Dimension :\", arr.ndim)\n",
    "print(\"Size :\", arr.size)\n",
    "print(\"DType :\", arr.dtype)"
   ]
  },
  {
   "cell_type": "markdown",
   "metadata": {},
   "source": [
    "### Array Reshaping"
   ]
  },
  {
   "cell_type": "code",
   "execution_count": 39,
   "metadata": {},
   "outputs": [
    {
     "name": "stdout",
     "output_type": "stream",
     "text": [
      "Original array  [ 0  1  2  3  4  5  6  7  8  9 10 11]\n",
      "\n",
      " Reshaped array  [[ 0  1  2  3]\n",
      " [ 4  5  6  7]\n",
      " [ 8  9 10 11]]\n",
      "\n",
      " Flattened Array:  [ 0  1  2  3  4  5  6  7  8  9 10 11]\n",
      "\n",
      " Raveled Array:  [ 0  1  2  3  4  5  6  7  8  9 10 11]\n",
      "\n",
      " Transpose array  [[ 0  4  8]\n",
      " [ 1  5  9]\n",
      " [ 2  6 10]\n",
      " [ 3  7 11]]\n"
     ]
    }
   ],
   "source": [
    "arr = np.arange(12)\n",
    "print(\"Original array \", arr)\n",
    "\n",
    "reshaped = arr.reshape((3,4))\n",
    "print(\"\\n Reshaped array \", reshaped)\n",
    "\n",
    "flattened = reshaped.flatten()\n",
    "print(\"\\n Flattened Array: \", flattened)\n",
    "\n",
    "# ravel (return view instead of copy)\n",
    "raveled = reshaped.ravel()\n",
    "print(\"\\n Raveled Array: \", raveled)\n",
    "\n",
    "#Transpose\n",
    "transpose = reshaped.T\n",
    "print(\"\\n Transpose array \", transpose)\n"
   ]
  },
  {
   "cell_type": "markdown",
   "metadata": {},
   "source": []
  }
 ],
 "metadata": {
  "kernelspec": {
   "display_name": "venv",
   "language": "python",
   "name": "python3"
  },
  "language_info": {
   "codemirror_mode": {
    "name": "ipython",
    "version": 3
   },
   "file_extension": ".py",
   "mimetype": "text/x-python",
   "name": "python",
   "nbconvert_exporter": "python",
   "pygments_lexer": "ipython3",
   "version": "3.12.6"
  }
 },
 "nbformat": 4,
 "nbformat_minor": 2
}
